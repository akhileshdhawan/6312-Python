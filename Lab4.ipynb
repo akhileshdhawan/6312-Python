{
  "nbformat": 4,
  "nbformat_minor": 0,
  "metadata": {
    "colab": {
      "name": "Untitled19.ipynb",
      "provenance": []
    },
    "kernelspec": {
      "name": "python3",
      "display_name": "Python 3"
    }
  },
  "cells": [
    {
      "cell_type": "code",
      "metadata": {
        "id": "h2rymMVCjPe0",
        "colab_type": "code",
        "colab": {
          "base_uri": "https://localhost:8080/",
          "height": 1000
        },
        "outputId": "1a69fbab-77ee-45ac-d15e-afff0f1006ae"
      },
      "source": [
        "#task1\n",
        "import string\n",
        "\n",
        "fin=open(\"book.txt\")\n",
        "for line in fin:\n",
        "  for word in line.split():\n",
        "    word=word.lower() #lower case\n",
        "    word=word.split(' ')  #split in whitespace\n",
        "    for punct in string.punctuation:\n",
        "      if punct in word:\n",
        "        word=word.replace(punct,\"\") #replaces punctuations into a space\n",
        "    print(word)"
      ],
      "execution_count": 2,
      "outputs": [
        {
          "output_type": "stream",
          "text": [
            "['\\ufeffthe']\n",
            "['project']\n",
            "['gutenberg']\n",
            "['ebook,']\n",
            "['the']\n",
            "['importance']\n",
            "['of']\n",
            "['being']\n",
            "['earnest,']\n",
            "['by']\n",
            "['oscar']\n",
            "['wilde']\n",
            "['this']\n",
            "['ebook']\n",
            "['is']\n",
            "['for']\n",
            "['the']\n",
            "['use']\n",
            "['of']\n",
            "['anyone']\n",
            "['anywhere']\n",
            "['at']\n",
            "['no']\n",
            "['cost']\n",
            "['and']\n",
            "['with']\n",
            "['almost']\n",
            "['no']\n",
            "['restrictions']\n",
            "['whatsoever.']\n",
            "['you']\n",
            "['may']\n",
            "['copy']\n",
            "['it,']\n",
            "['give']\n",
            "['it']\n",
            "['away']\n",
            "['or']\n",
            "['re-use']\n",
            "['it']\n",
            "['under']\n",
            "['the']\n",
            "['terms']\n",
            "['of']\n",
            "['the']\n",
            "['project']\n",
            "['gutenberg']\n",
            "['license']\n",
            "['included']\n",
            "['with']\n",
            "['this']\n",
            "['ebook']\n",
            "['or']\n",
            "['online']\n",
            "['at']\n",
            "['www.gutenberg.org']\n",
            "['title:']\n",
            "['the']\n",
            "['importance']\n",
            "['of']\n",
            "['being']\n",
            "['earnest']\n",
            "['a']\n",
            "['trivial']\n",
            "['comedy']\n",
            "['for']\n",
            "['serious']\n",
            "['people']\n",
            "['author:']\n",
            "['oscar']\n",
            "['wilde']\n",
            "['release']\n",
            "['date:']\n",
            "['august']\n",
            "['29,']\n",
            "['2006']\n",
            "['[ebook']\n",
            "['#844]']\n",
            "['language:']\n",
            "['english']\n",
            "['character']\n",
            "['set']\n",
            "['encoding:']\n",
            "['iso-646-us']\n",
            "['(us-ascii)']\n",
            "['***start']\n",
            "['of']\n",
            "['the']\n",
            "['project']\n",
            "['gutenberg']\n",
            "['ebook']\n",
            "['the']\n",
            "['importance']\n",
            "['of']\n",
            "['being']\n",
            "['earnest***']\n",
            "['transcribed']\n",
            "['from']\n",
            "['the']\n",
            "['1915']\n",
            "['methuen']\n"
          ],
          "name": "stdout"
        },
        {
          "output_type": "error",
          "ename": "AttributeError",
          "evalue": "ignored",
          "traceback": [
            "\u001b[0;31m---------------------------------------------------------------------------\u001b[0m",
            "\u001b[0;31mAttributeError\u001b[0m                            Traceback (most recent call last)",
            "\u001b[0;32m<ipython-input-2-dd65118679e0>\u001b[0m in \u001b[0;36m<module>\u001b[0;34m()\u001b[0m\n\u001b[1;32m      9\u001b[0m     \u001b[0;32mfor\u001b[0m \u001b[0mpunct\u001b[0m \u001b[0;32min\u001b[0m \u001b[0mstring\u001b[0m\u001b[0;34m.\u001b[0m\u001b[0mpunctuation\u001b[0m\u001b[0;34m:\u001b[0m\u001b[0;34m\u001b[0m\u001b[0;34m\u001b[0m\u001b[0m\n\u001b[1;32m     10\u001b[0m       \u001b[0;32mif\u001b[0m \u001b[0mpunct\u001b[0m \u001b[0;32min\u001b[0m \u001b[0mword\u001b[0m\u001b[0;34m:\u001b[0m\u001b[0;34m\u001b[0m\u001b[0;34m\u001b[0m\u001b[0m\n\u001b[0;32m---> 11\u001b[0;31m         \u001b[0mword\u001b[0m\u001b[0;34m=\u001b[0m\u001b[0mword\u001b[0m\u001b[0;34m.\u001b[0m\u001b[0mreplace\u001b[0m\u001b[0;34m(\u001b[0m\u001b[0mpunct\u001b[0m\u001b[0;34m,\u001b[0m\u001b[0;34m\"\"\u001b[0m\u001b[0;34m)\u001b[0m \u001b[0;31m#replaces punctuations into a space\u001b[0m\u001b[0;34m\u001b[0m\u001b[0;34m\u001b[0m\u001b[0m\n\u001b[0m\u001b[1;32m     12\u001b[0m     \u001b[0mprint\u001b[0m\u001b[0;34m(\u001b[0m\u001b[0mword\u001b[0m\u001b[0;34m)\u001b[0m\u001b[0;34m\u001b[0m\u001b[0;34m\u001b[0m\u001b[0m\n",
            "\u001b[0;31mAttributeError\u001b[0m: 'list' object has no attribute 'replace'"
          ]
        }
      ]
    },
    {
      "cell_type": "code",
      "metadata": {
        "id": "xBfFQ2DXoH5g",
        "colab_type": "code",
        "colab": {
          "base_uri": "https://localhost:8080/",
          "height": 55
        },
        "outputId": "e5888f11-0f23-44a2-e1e6-56a75046b732"
      },
      "source": [
        "#task 2\n",
        "\n",
        "import string\n",
        "\n",
        "dictionary = dict()\n",
        "fin = open(\"book.txt\")\n",
        "for line in fin:\n",
        "  for word in line.split():\n",
        "    word = word.lower()\n",
        "    word = word.strip()\n",
        "    for pun in string.punctuation:\n",
        "      if pun in word:\n",
        "        word = word.replace(pun,\"\")\n",
        "\n",
        "\n",
        "    if word in dictionary:\n",
        "      dictionary[word] = dictionary[word] + 1\n",
        "    else:\n",
        "      dictionary[word] = 1\n",
        "\n",
        "\n",
        "sum_var = 0\n",
        "for item in dictionary:\n",
        "  sum_var = sum_var + dictionary[item]\n",
        "\n",
        "\n",
        "print(dictionary)"
      ],
      "execution_count": 4,
      "outputs": [
        {
          "output_type": "stream",
          "text": [
            "{'\\ufeffthe': 1, 'project': 86, 'gutenberg': 29, 'ebook': 10, 'the': 793, 'importance': 11, 'of': 513, 'being': 23, 'earnest': 6, 'by': 56, 'oscar': 2, 'wilde': 2, 'this': 118, 'is': 436, 'for': 169, 'use': 14, 'anyone': 6, 'anywhere': 7, 'at': 168, 'no': 92, 'cost': 3, 'and': 355, 'with': 153, 'almost': 9, 'restrictions': 2, 'whatsoever': 5, 'you': 611, 'may': 58, 'copy': 14, 'it': 280, 'give': 18, 'away': 7, 'or': 108, 'reuse': 2, 'under': 18, 'terms': 24, 'license': 15, 'included': 3, 'online': 4, 'wwwgutenbergorg': 3, 'title': 1, 'a': 469, 'trivial': 3, 'comedy': 2, 'serious': 19, 'people': 35, 'author': 1, 'release': 1, 'date': 3, 'august': 1, '29': 1, '2006': 1, '844': 1, 'language': 3, 'english': 3, 'character': 9, 'set': 11, 'encoding': 1, 'iso646us': 1, 'usascii': 1, 'start': 3, 'transcribed': 1, 'from': 65, '1915': 1, 'methuen': 1, '': 119, 'co': 1, 'ltd': 1, 'edition': 2, 'david': 1, 'price': 1, 'email': 5, 'ccx074pglaforg': 1, 'persons': 2, 'in': 365, 'play': 6, 'john': 10, 'worthing': 61, 'jp': 2, 'algernon': 268, 'moncrieff': 10, 'rev': 2, 'canon': 5, 'chasuble': 63, 'dd': 2, 'merriman': 36, 'butler': 2, 'lane': 47, 'manservant': 1, 'lady': 139, 'bracknell': 125, 'hon': 2, 'gwendolen': 176, 'fairfax': 23, 'cecily': 254, 'cardew': 25, 'miss': 135, 'prism': 84, 'governess': 3, 'scenes': 1, 'act': 9, 'i': 791, 'moncrieffs': 1, 'flat': 2, 'halfmoon': 2, 'street': 4, 'w': 2, 'ii': 1, 'garden': 13, 'manor': 5, 'house': 23, 'woolton': 3, 'iii': 1, 'drawingroom': 1, 'time': 37, 'present': 17, 'london': 14, 'st': 1, 'jamess': 1, 'theatre': 2, 'lessee': 1, 'manager': 2, 'mr': 88, 'george': 3, 'alexander': 2, 'february': 3, '14th': 3, '1895': 1, 'allen': 1, 'aynesworth': 1, 'h': 2, 'vincent': 1, 'frank': 1, 'dyall': 1, 'f': 1, 'kinsey': 1, 'peile': 1, 'rose': 4, 'leclercq': 1, 'irene': 1, 'vanbrugh': 1, 'evelyn': 1, 'millard': 1, 'mrs': 2, 'canninge': 1, 'first': 20, 'scene': 3, 'morningroom': 2, 'algernons': 2, 'room': 14, 'luxuriously': 1, 'artistically': 1, 'furnished': 1, 'sound': 2, 'piano': 2, 'heard': 6, 'adjoining': 1, 'arranging': 1, 'afternoon': 16, 'tea': 12, 'on': 110, 'table': 12, 'after': 30, 'music': 8, 'has': 73, 'ceased': 2, 'enters': 4, 'did': 23, 'hear': 12, 'what': 99, 'was': 92, 'playing': 1, 'didnt': 6, 'think': 62, 'polite': 1, 'to': 663, 'listen': 2, 'sir': 30, 'im': 14, 'sorry': 5, 'that': 336, 'your': 149, 'sake': 5, 'dont': 77, 'accuratelyany': 1, 'one': 114, 'can': 58, 'accuratelybut': 1, 'wonderful': 7, 'expression': 3, 'as': 112, 'far': 10, 'concerned': 3, 'sentiment': 1, 'my': 186, 'forte': 2, 'keep': 9, 'science': 3, 'life': 33, 'yes': 66, 'speaking': 6, 'have': 208, 'got': 17, 'cucumber': 5, 'sandwiches': 5, 'cut': 1, 'hands': 9, 'them': 33, 'salver': 5, 'inspects': 1, 'takes': 11, 'two': 11, 'sits': 2, 'down': 29, 'sofa': 6, 'oh': 59, 'way': 26, 'see': 31, 'book': 4, 'thursday': 3, 'night': 4, 'when': 32, 'lord': 7, 'shoreman': 1, 'were': 25, 'dining': 2, 'me': 148, 'eight': 3, 'bottles': 2, 'champagne': 3, 'are': 164, 'entered': 1, 'having': 5, 'been': 66, 'consumed': 1, 'pint': 2, 'why': 31, 'bachelors': 2, 'establishment': 1, 'servants': 2, 'invariably': 2, 'drink': 2, 'ask': 18, 'merely': 8, 'information': 10, 'attribute': 1, 'superior': 1, 'quality': 1, 'wine': 2, 'often': 15, 'observed': 1, 'married': 29, 'households': 1, 'rarely': 4, 'firstrate': 1, 'brand': 1, 'good': 39, 'heavens': 11, 'marriage': 7, 'so': 73, 'demoralising': 1, 'believe': 12, 'very': 96, 'pleasant': 8, 'state': 11, 'had': 62, 'little': 34, 'experience': 2, 'myself': 18, 'up': 49, 'only': 30, 'once': 17, 'consequence': 1, 'misunderstanding': 2, 'between': 6, 'young': 25, 'person': 9, 'languidly': 1, 'know': 56, 'am': 110, 'much': 36, 'interested': 6, 'family': 5, 'not': 167, 'interesting': 3, 'subject': 10, 'never': 56, 'natural': 2, 'sure': 16, 'will': 78, 'do': 95, 'thank': 18, 'goes': 29, 'out': 47, 'lanes': 1, 'views': 4, 'seem': 18, 'somewhat': 10, 'lax': 1, 'really': 32, 'if': 101, 'lower': 1, 'orders': 2, 'us': 31, 'example': 1, 'earth': 12, 'they': 50, 'class': 1, 'absolutely': 6, 'sense': 7, 'moral': 6, 'responsibility': 2, 'enter': 35, 'ernest': 80, 'jack': 286, 'how': 35, 'dear': 64, 'brings': 1, 'town': 22, 'pleasure': 14, 'else': 14, 'should': 47, 'bring': 3, 'eating': 8, 'usual': 4, 'algy': 21, 'stiffly': 1, 'customary': 1, 'society': 5, 'take': 16, 'some': 45, 'slight': 6, 'refreshment': 1, 'five': 10, 'oclock': 1, 'where': 16, 'since': 10, 'last': 21, 'sitting': 5, 'country': 20, 'there': 62, 'pulling': 1, 'off': 18, 'his': 69, 'gloves': 2, 'amuses': 2, 'oneself': 1, 'other': 33, 'excessively': 3, 'boring': 1, 'who': 55, 'amuse': 2, 'airily': 2, 'neighbours': 3, 'nice': 7, 'part': 11, 'shropshire': 5, 'perfectly': 31, 'horrid': 6, 'speak': 19, 'immensely': 2, 'must': 46, 'over': 19, 'sandwich': 2, 'county': 2, 'eh': 1, 'course': 31, 'hallo': 1, 'all': 110, 'these': 13, 'cups': 1, 'such': 23, 'reckless': 2, 'extravagance': 2, 'coming': 6, 'aunt': 36, 'augusta': 23, 'delightful': 5, 'well': 64, 'but': 116, 'afraid': 15, 'wont': 14, 'quite': 68, 'approve': 5, 'here': 35, 'fellow': 12, 'flirt': 3, 'disgraceful': 3, 'bad': 13, 'flirts': 2, 'love': 23, 'come': 28, 'expressly': 1, 'propose': 8, 'her': 88, 'thought': 7, 'call': 15, 'business': 10, 'utterly': 2, 'unromantic': 1, 'anything': 20, 'romantic': 6, 'proposing': 2, 'be': 176, 'nothing': 21, 'about': 75, 'definite': 4, 'proposal': 2, 'accepted': 4, 'usually': 10, 'then': 20, 'excitement': 2, 'essence': 1, 'romance': 2, 'uncertainty': 1, 'ever': 30, 'get': 16, 'ill': 12, 'certainly': 23, 'try': 5, 'forget': 2, 'fact': 29, 'doubt': 9, 'divorce': 1, 'court': 3, 'specially': 4, 'invented': 3, 'whose': 9, 'memories': 1, 'curiously': 2, 'constituted': 1, 'speculating': 1, 'divorces': 1, 'made': 8, 'heavenjack': 1, 'puts': 9, 'hand': 16, 'interferes': 1, 'please': 7, 'touch': 2, 'ordered': 2, 'eats': 1, 'different': 5, 'matter': 16, 'she': 49, 'plate': 3, 'below': 5, 'bread': 8, 'butter': 9, 'devoted': 1, 'advancing': 3, 'helping': 1, 'himself': 5, 'too': 16, 'need': 7, 'eat': 9, 'going': 15, 'behave': 3, 'already': 11, 'say': 41, 'place': 19, 'girls': 6, 'marry': 10, 'men': 11, 'right': 20, 'nonsense': 10, 'isnt': 17, 'great': 14, 'truth': 10, 'accounts': 4, 'extraordinary': 4, 'number': 7, 'sees': 2, 'second': 5, 'consent': 8, 'cousin': 11, 'before': 15, 'allow': 10, 'clear': 4, 'whole': 9, 'question': 12, 'rings': 1, 'bell': 3, 'mean': 22, 'any': 109, 'name': 56, 'cigarette': 12, 'case': 20, 'left': 9, 'smoking': 2, 'he': 93, 'dined': 2, 'wish': 17, 'goodness': 4, 'let': 12, 'writing': 5, 'frantic': 2, 'letters': 7, 'scotland': 1, 'yard': 1, 'nearly': 8, 'offering': 3, 'large': 7, 'reward': 2, 'would': 66, 'offer': 4, 'happen': 2, 'more': 32, 'than': 25, 'hard': 5, 'now': 38, 'thing': 25, 'found': 10, 'rather': 17, 'opens': 2, 'examines': 2, 'however': 13, 'makes': 12, 'look': 14, 'inscription': 1, 'inside': 2, 'find': 5, 'yours': 4, 'its': 27, 'mine': 4, 'moving': 5, 'him': 39, 'seen': 5, 'hundred': 5, 'times': 2, 'read': 11, 'written': 7, 'ungentlemanly': 1, 'private': 2, 'absurd': 11, 'fast': 2, 'rule': 1, 'shouldnt': 4, 'half': 8, 'modern': 8, 'culture': 2, 'depends': 6, 'aware': 5, 'discuss': 1, 'sort': 4, 'talk': 18, 'simply': 5, 'want': 13, 'back': 29, 'said': 14, 'happens': 1, 'charming': 6, 'old': 18, 'lives': 5, 'tunbridge': 3, 'wells': 3, 'just': 21, 'retreating': 1, 'does': 25, 'herself': 6, 'reading': 2, 'fondest': 2, 'kneeling': 2, 'upon': 11, 'aunts': 2, 'tall': 3, 'surely': 5, 'an': 60, 'allowed': 5, 'decide': 1, 'every': 13, 'exactly': 6, 'like': 48, 'follows': 1, 'round': 14, 'uncle': 26, 'objection': 2, 'admit': 7, 'small': 8, 'size': 1, 'own': 35, 'nephew': 6, 'cant': 12, 'make': 20, 'besides': 9, 'always': 44, 'told': 13, 'introduced': 2, 'answer': 4, 'most': 25, 'earnestlooking': 1, 'saw': 6, 'saying': 2, 'cards': 1, 'taking': 3, 'b': 4, '4': 5, 'albany': 4, 'proof': 2, 'attempt': 1, 'deny': 5, 'card': 5, 'pocket': 3, 'given': 7, 'account': 1, 'calls': 3, 'boy': 13, 'better': 14, 'dentist': 3, 'vulgar': 4, 'produces': 7, 'false': 3, 'impression': 2, 'dentists': 1, 'go': 29, 'tell': 19, 'mention': 6, 'suspected': 2, 'confirmed': 3, 'secret': 2, 'bunburyist': 9, 'reveal': 1, 'meaning': 2, 'incomparable': 2, 'soon': 6, 'kind': 22, 'enough': 9, 'inform': 3, 'produce': 7, 'explanation': 6, 'pray': 11, 'improbable': 2, 'ordinary': 4, 'thomas': 4, 'adopted': 1, 'guardian': 12, 'granddaughter': 2, 'addresses': 3, 'motives': 2, 'respect': 4, 'could': 23, 'possibly': 7, 'appreciate': 1, 'charge': 8, 'admirable': 3, 'invited': 1, 'candidly': 3, 'bunburyed': 1, 'separate': 2, 'occasions': 1, 'whether': 4, 'able': 7, 'understand': 8, 'real': 3, 'hardly': 17, 'placed': 4, 'position': 8, 'adopt': 2, 'high': 5, 'tone': 2, 'subjects': 1, 'ones': 9, 'duty': 8, 'conduce': 1, 'either': 10, 'health': 7, 'happiness': 3, 'order': 9, 'pretended': 1, 'younger': 5, 'brother': 51, 'gets': 2, 'into': 30, 'dreadful': 3, 'scrapes': 2, 'pure': 2, 'simple': 5, 'tedious': 3, 'literature': 1, 'complete': 1, 'impossibility': 1, 'wouldnt': 5, 'literary': 14, 'criticism': 1, 'leave': 6, 'havent': 10, 'university': 2, 'daily': 2, 'papers': 2, 'advanced': 3, 'bunburyists': 1, 'useful': 1, 'called': 12, 'invaluable': 3, 'permanent': 4, 'invalid': 6, 'bunbury': 38, 'whenever': 6, 'choose': 4, 'wasnt': 2, 'bunburys': 1, 'instance': 4, 'dine': 8, 'williss': 3, 'engaged': 20, 'week': 12, 'asked': 3, 'tonight': 5, 'absurdly': 1, 'careless': 1, 'sending': 3, 'invitations': 2, 'foolish': 3, 'annoys': 1, 'receiving': 2, 'smallest': 4, 'intention': 2, 'doing': 3, 'begin': 1, 'monday': 7, 'relations': 5, 'treated': 1, 'member': 1, 'sent': 3, 'woman': 9, 'third': 2, 'whom': 6, 'next': 12, 'mary': 2, 'farquhar': 2, 'husband': 4, 'across': 4, 'dinnertable': 1, 'indeed': 22, 'even': 21, 'decent': 1, 'enormously': 1, 'increase': 1, 'amount': 1, 'women': 9, 'their': 11, 'husbands': 2, 'scandalous': 1, 'looks': 25, 'washing': 1, 'clean': 1, 'linen': 1, 'public': 14, 'naturally': 6, 'bunburying': 6, 'rules': 3, 'accepts': 1, 'kill': 2, 'bore': 2, 'rid': 4, 'strongly': 2, 'advise': 4, 'same': 10, 'friend': 8, 'induce': 2, 'which': 25, 'seems': 28, 'extremely': 11, 'problematic': 1, 'glad': 10, 'man': 29, 'marries': 1, 'without': 19, 'knowing': 3, 'girl': 17, 'wife': 4, 'realise': 2, 'three': 12, 'company': 1, 'none': 4, 'sententiously': 2, 'theory': 2, 'corrupt': 2, 'french': 4, 'drama': 1, 'propounding': 1, 'fifty': 2, 'years': 15, 'happy': 4, 'home': 3, 'proved': 1, 'cynical': 2, 'easy': 3, 'nowadays': 5, 'theres': 2, 'lot': 3, 'beastly': 1, 'competition': 1, 'electric': 1, 'ah': 9, 'relatives': 1, 'creditors': 1, 'ring': 3, 'wagnerian': 1, 'manner': 10, 'ten': 3, 'minutes': 5, 'opportunity': 7, 'suppose': 20, 'hate': 6, 'meals': 2, 'shallow': 2, 'forward': 4, 'meet': 4, 'hope': 18, 'behaving': 1, 'feeling': 1, 'thats': 5, 'things': 17, 'together': 9, 'bows': 3, 'icy': 1, 'coldness': 2, 'smart': 2, 'youre': 2, 'perfect': 7, 'developments': 1, 'intend': 5, 'develop': 1, 'many': 13, 'directions': 1, 'sit': 8, 'corner': 2, 'we': 57, 'late': 3, 'obliged': 3, 'harbury': 2, 'hadnt': 2, 'poor': 17, 'death': 6, 'altered': 2, 'twenty': 4, 'cup': 3, 'those': 3, 'promised': 2, 'teatable': 1, 'thanks': 2, 'mamma': 11, 'comfortable': 1, 'picking': 3, 'empty': 1, 'horror': 2, 'gravely': 2, 'cucumbers': 3, 'market': 1, 'morning': 8, 'went': 2, 'twice': 1, 'ready': 6, 'money': 7, 'greatly': 1, 'distressed': 1, 'crumpets': 1, 'living': 2, 'entirely': 7, 'hair': 5, 'turned': 2, 'gold': 1, 'grief': 2, 'changed': 2, 'colour': 2, 'cause': 4, 'cannot': 15, 'crosses': 1, 'ive': 8, 'treat': 2, 'send': 3, 'attentive': 1, 'watch': 4, 'shall': 14, 'frowning': 1, 'put': 11, 'completely': 3, 'upstairs': 1, 'fortunately': 2, 'accustomed': 1, 'terrible': 8, 'disappointment': 4, 'telegram': 2, 'again': 7, 'exchanges': 1, 'glances': 1, 'strange': 6, 'suffer': 1, 'mind': 10, 'live': 9, 'die': 6, 'shillyshallying': 1, 'nor': 3, 'sympathy': 1, 'invalids': 1, 'consider': 3, 'morbid': 1, 'illness': 1, 'encouraged': 1, 'others': 8, 'primary': 1, 'telling': 2, 'notice': 7, 'improvement': 1, 'ailment': 1, 'relapse': 1, 'saturday': 3, 'rely': 1, 'arrange': 2, 'reception': 1, 'wants': 4, 'something': 14, 'encourage': 1, 'conversation': 3, 'particularly': 6, 'end': 7, 'season': 2, 'practically': 2, 'whatever': 3, 'cases': 1, 'probably': 7, 'still': 11, 'conscious': 1, 'promise': 2, 'hell': 1, 'difficulty': 1, 'plays': 2, 'run': 2, 'programme': 2, 'drawn': 4, 'kindly': 6, 'moment': 20, 'thoughtful': 1, 'rising': 10, 'following': 5, 'few': 9, 'expurgations': 1, 'songs': 1, 'improper': 1, 'shocked': 1, 'laugh': 2, 'worse': 2, 'german': 11, 'sounds': 3, 'thoroughly': 4, 'respectable': 1, 'accompany': 1, 'musicroom': 1, 'remains': 1, 'behind': 2, 'day': 8, 'weather': 5, 'feel': 10, 'certain': 4, 'nervous': 1, 'wrong': 3, 'advantage': 1, 'bracknells': 3, 'temporary': 2, 'absence': 4, 'suddenly': 6, 'nervously': 3, 'met': 11, 'admired': 1, 'rate': 6, 'demonstrative': 1, 'irresistible': 2, 'fascination': 2, 'indifferent': 2, 'amazement': 3, 'age': 15, 'ideals': 1, 'constantly': 1, 'mentioned': 8, 'expensive': 1, 'monthly': 1, 'magazines': 1, 'reached': 2, 'provincial': 1, 'pulpits': 1, 'ideal': 1, 'inspires': 3, 'absolute': 6, 'confidence': 5, 'knew': 7, 'destined': 1, 'passionately': 3, 'darling': 14, 'youve': 3, 'couldnt': 10, 'supposing': 1, 'glibly': 1, 'clearly': 4, 'metaphysical': 2, 'speculation': 1, 'speculations': 2, 'reference': 1, 'actual': 2, 'facts': 2, 'personally': 2, 'care': 8, 'suits': 3, 'divine': 1, 'vibrations': 2, 'lots': 2, 'nicer': 1, 'names': 5, 'thrill': 1, 'known': 5, 'several': 3, 'jacks': 3, 'exception': 1, 'plain': 7, 'notorious': 1, 'domesticity': 1, 'pity': 2, 'entrancing': 1, 'single': 4, 'moments': 4, 'solitude': 1, 'safe': 1, 'christened': 17, 'oncei': 1, 'lost': 6, 'astounded': 2, 'led': 2, 'adore': 2, 'proposed': 3, 'yet': 5, 'touched': 1, 'spare': 1, 'possible': 7, 'fair': 2, 'frankly': 5, 'beforehand': 1, 'fully': 2, 'determined': 2, 'accept': 2, 'knees': 1, 'long': 14, 'loved': 1, 'world': 8, 'practice': 5, 'gerald': 1, 'girlfriends': 1, 'wonderfully': 3, 'blue': 3, 'eyes': 1, 'especially': 6, 'rise': 4, 'semirecumbent': 1, 'posture': 1, 'indecorous': 1, 'tries': 2, 'restrains': 2, 'beg': 9, 'retire': 3, 'finished': 3, 'pardon': 7, 'become': 5, 'father': 5, 'permit': 1, 'engagement': 10, 'surprise': 3, 'unpleasant': 4, 'questions': 2, 'while': 2, 'making': 3, 'inquiries': 1, 'wait': 8, 'carriage': 4, 'reproachfully': 1, 'door': 3, 'blow': 3, 'kisses': 6, 'each': 10, 'vaguely': 1, 'noise': 3, 'finally': 2, 'turns': 3, 'looking': 13, 'seat': 1, 'notebook': 2, 'pencil': 2, 'prefer': 1, 'standing': 4, 'bound': 6, 'list': 2, 'eligible': 2, 'although': 2, 'duchess': 1, 'bolton': 1, 'work': 52, 'answers': 1, 'affectionate': 1, 'mother': 7, 'requires': 2, 'smoke': 2, 'occupation': 2, 'idle': 2, 'twentynine': 1, 'opinion': 2, 'desires': 1, 'everything': 6, 'hesitation': 2, 'pleased': 4, 'tampers': 1, 'ignorance': 3, 'delicate': 1, 'exotic': 1, 'fruit': 1, 'bloom': 1, 'gone': 3, 'education': 4, 'radically': 1, 'unsound': 1, 'england': 1, 'effect': 3, 'prove': 2, 'danger': 1, 'upper': 3, 'classes': 2, 'lead': 3, 'acts': 1, 'violence': 1, 'grosvenor': 2, 'square': 4, 'income': 3, 'seven': 3, 'thousand': 3, 'year': 4, 'note': 1, 'land': 4, 'investments': 2, 'chiefly': 1, 'satisfactory': 3, 'duties': 4, 'expected': 6, 'during': 3, 'lifetime': 1, 'exacted': 1, 'profit': 3, 'gives': 1, 'prevents': 1, 'keeping': 3, 'attached': 2, 'fifteen': 2, 'acres': 1, 'depend': 2, 'poachers': 1, 'bedrooms': 1, 'point': 5, 'cleared': 2, 'afterwards': 1, 'unspoiled': 1, 'nature': 8, 'reside': 1, 'belgrave': 3, 'bloxham': 2, 'six': 4, 'months': 6, 'considerably': 2, 'guarantee': 1, 'respectability': 2, '149': 2, 'shaking': 4, 'head': 7, 'unfashionable': 1, 'side': 5, 'easily': 2, 'fashion': 1, 'sternly': 2, 'both': 14, 'necessary': 3, 'presume': 2, 'politics': 1, 'liberal': 1, 'unionist': 1, 'count': 1, 'tories': 1, 'evening': 3, 'minor': 1, 'matters': 3, 'parents': 6, 'lose': 3, 'parent': 2, 'regarded': 2, 'misfortune': 1, 'carelessness': 1, 'evidently': 1, 'wealth': 1, 'born': 2, 'radical': 1, 'purple': 1, 'commerce': 1, 'ranks': 1, 'aristocracy': 2, 'nearer': 1, 'actually': 4, 'birth': 3, 'gentleman': 6, 'charitable': 3, 'disposition': 2, 'gave': 1, 'because': 5, 'happened': 3, 'firstclass': 2, 'ticket': 2, 'sussex': 1, 'seaside': 2, 'resort': 2, 'handbag': 16, 'seriously': 3, 'handbaga': 1, 'black': 3, 'leather': 2, 'handles': 2, 'itan': 1, 'locality': 2, 'james': 1, 'cloakroom': 4, 'victoria': 3, 'station': 5, 'mistake': 2, 'brighton': 2, 'line': 3, 'immaterial': 1, 'confess': 1, 'bewildered': 1, 'bred': 1, 'display': 2, 'contempt': 1, 'decencies': 1, 'reminds': 2, 'worst': 2, 'excesses': 2, 'revolution': 1, 'unfortunate': 8, 'movement': 1, 'particular': 9, 'railway': 5, 'might': 17, 'serve': 1, 'conceal': 1, 'social': 6, 'indiscretionhas': 1, 'used': 5, 'purpose': 3, 'nowbut': 1, 'assured': 1, 'basis': 1, 'recognised': 1, 'ensure': 1, 'gwendolens': 1, 'acquire': 1, 'effort': 3, 'sex': 2, 'manage': 1, 'dressingroom': 1, 'satisfy': 1, 'imagine': 2, 'dream': 2, 'allowing': 2, 'our': 17, 'daughtera': 1, 'brought': 3, 'utmost': 1, 'careto': 1, 'cloak': 1, 'form': 8, 'alliance': 2, 'parcel': 1, 'sweeps': 1, 'majestic': 1, 'indignation': 3, 'strikes': 1, 'wedding': 1, 'march': 2, 'furious': 2, 'ghastly': 3, 'tune': 1, 'idiotic': 1, 'stops': 1, 'cheerily': 2, 'refused': 1, 'refusing': 1, 'illnatured': 1, 'trivet': 1, 'unbearable': 2, 'gorgon': 2, 'monster': 1, 'myth': 1, 'unfair': 2, 'hearing': 2, 'abused': 1, 'pack': 1, 'remotest': 2, 'knowledge': 2, 'instinct': 1, 'argue': 2, 'originally': 1, 'word': 4, 'id': 4, 'shoot': 1, 'pause': 7, 'chance': 2, 'becoming': 3, 'mothers': 1, 'tragedy': 1, 'clever': 6, 'phrased': 1, 'true': 4, 'observation': 1, 'civilised': 1, 'sick': 1, 'cleverness': 1, 'everybody': 1, 'meeting': 2, 'nuisance': 1, 'fools': 3, 'patronising': 1, 'tells': 2, 'sweet': 8, 'refined': 1, 'ideas': 2, 'pretty': 7, 'profligate': 1, 'died': 5, 'paris': 6, 'apoplexy': 2, 'hereditary': 3, 'runs': 2, 'families': 3, 'severe': 7, 'chill': 6, 'carried': 2, 'loss': 2, 'deal': 1, 'silly': 3, 'capital': 1, 'appetite': 2, 'walks': 3, 'pays': 1, 'attention': 2, 'lessons': 1, 'eighteen': 4, 'ward': 8, 'doesnt': 3, 'blurt': 1, 'friends': 3, 'bet': 1, 'hour': 9, 'calling': 2, 'sister': 3, 'dress': 4, 'irritably': 3, 'hungry': 2, 'werent': 1, 'dinner': 6, 'loathe': 1, 'listening': 3, 'club': 1, 'talking': 3, 'trot': 2, 'empire': 1, 'bear': 1, 'awfully': 1, 'object': 2, 'turn': 3, 'strictly': 1, 'immoral': 1, 'attitude': 1, 'towards': 4, 'retires': 2, 'fireplace': 1, 'mammas': 1, 'face': 2, 'fear': 4, 'pay': 2, 'regard': 1, 'children': 2, 'oldfashioned': 2, 'dying': 1, 'influence': 6, 'prevent': 2, 'alter': 2, 'eternal': 1, 'devotion': 1, 'story': 1, 'origin': 2, 'related': 1, 'unpleasing': 1, 'comments': 1, 'stirred': 1, 'deeper': 1, 'fibres': 1, 'christian': 8, 'simplicity': 1, 'exquisitely': 1, 'incomprehensible': 1, 'address': 5, 'hertfordshire': 2, 'carefully': 5, 'smiles': 2, 'writes': 2, 'shirtcuff': 2, 'picks': 4, 'guide': 1, 'postal': 1, 'service': 2, 'desperate': 1, 'require': 4, 'consideration': 2, 'communicate': 1, 'remain': 2, 'till': 11, 'also': 8, 'presents': 2, 'surmised': 1, 'bills': 1, 'envelopes': 1, 'tears': 2, 'glass': 1, 'sherry': 2, 'tomorrow': 2, 'clothes': 4, 'jacket': 1, 'handing': 1, 'fine': 1, 'pessimist': 1, 'best': 4, 'satisfaction': 2, 'sensible': 3, 'intellectual': 5, 'cared': 1, 'laughing': 3, 'immoderately': 1, 'amused': 1, 'anxious': 6, 'scrape': 1, 'nobody': 2, 'indignantly': 2, 'leaves': 2, 'lights': 1, 'reads': 2, 'drop': 2, 'flight': 2, 'grey': 1, 'stone': 2, 'steps': 1, 'leads': 2, 'full': 15, 'roses': 2, 'july': 1, 'basket': 1, 'chairs': 1, 'covered': 1, 'books': 3, 'yewtree': 1, 'discovered': 3, 'seated': 1, 'watering': 2, 'flowers': 5, 'utilitarian': 1, 'moultons': 1, 'pleasures': 3, 'await': 1, 'grammar': 1, 'open': 2, 'page': 3, 'repeat': 1, 'yesterdays': 1, 'lesson': 4, 'slowly': 5, 'child': 11, 'improve': 2, 'yourself': 3, 'laid': 2, 'stress': 2, 'leaving': 2, 'yesterday': 4, 'lays': 1, 'sometimes': 3, 'drawing': 3, 'enjoys': 1, 'gravity': 1, 'demeanour': 1, 'commended': 1, 'comparatively': 2, 'higher': 2, 'bored': 2, 'surprised': 2, 'troubles': 1, 'merriment': 1, 'triviality': 2, 'remember': 5, 'constant': 4, 'anxiety': 1, 'geology': 1, 'begins': 6, 'write': 3, 'diary': 14, 'according': 2, 'brothers': 4, 'admission': 2, 'irretrievably': 1, 'weak': 2, 'vacillating': 1, 'desire': 5, 'reclaim': 1, 'favour': 3, 'mania': 1, 'turning': 1, 'sows': 2, 'reap': 2, 'secrets': 1, 'memory': 3, 'carry': 2, 'chronicles': 1, 'responsible': 1, 'threevolume': 3, 'novels': 2, 'mudie': 1, 'sends': 1, 'slightingly': 1, 'novel': 3, 'wrote': 3, 'earlier': 1, 'days': 8, 'happily': 3, 'depress': 1, 'ended': 1, 'unhappily': 1, 'fiction': 2, 'means': 8, 'published': 1, 'alas': 1, 'manuscript': 4, 'unfortunately': 1, 'abandoned': 1, 'starts': 4, 'mislaid': 1, 'profitless': 1, 'smiling': 1, 'dr': 20, 'through': 9, 'trust': 3, 'complaining': 1, 'headache': 4, 'short': 3, 'stroll': 2, 'park': 2, 'felt': 5, 'instinctively': 2, 'thinking': 1, 'rector': 2, 'came': 2, 'inattentive': 1, 'fortunate': 1, 'prisms': 2, 'pupil': 2, 'hang': 1, 'lips': 1, 'glares': 4, 'spoke': 2, 'metaphoricallymy': 1, 'metaphor': 2, 'bees': 1, 'ahem': 7, 'returned': 3, 'expect': 1, 'likes': 1, 'spend': 1, 'sunday': 2, 'sole': 1, 'aim': 1, 'enjoyment': 1, 'disturb': 1, 'egeria': 2, 'longer': 2, 'laetitia': 2, 'doctor': 4, 'bowing': 1, 'classical': 1, 'allusion': 2, 'pagan': 1, 'authors': 1, 'evensong': 1, 'walk': 2, 'schools': 2, 'political': 2, 'economy': 2, 'chapter': 1, 'fall': 2, 'rupee': 1, 'omit': 1, 'sensational': 2, 'metallic': 1, 'problems': 1, 'melodramatic': 1, 'throws': 1, 'geography': 1, 'driven': 1, 'luggage': 4, 'seemed': 1, 'disappointed': 1, 'privately': 1, 'housekeeper': 1, 'wicked': 7, 'frightened': 1, 'gay': 1, 'debonnair': 1, 'raising': 2, 'hat': 2, 'taken': 2, 'aback': 2, 'mustnt': 1, 'deceiving': 2, 'inexcusable': 2, 'leading': 3, 'double': 1, 'pretending': 2, 'hypocrisy': 1, 'proud': 1, 'though': 4, 'pleasanter': 1, 'train': 4, 'appointment': 2, 'important': 7, 'retain': 1, 'beauty': 3, 'arrives': 1, 'emigrating': 2, 'buy': 3, 'outfit': 2, 'taste': 2, 'neckties': 2, 'australia': 4, 'sooner': 4, 'wednesday': 1, 'received': 7, 'encouraging': 1, 'reform': 1, 'mission': 5, 'reforming': 1, 'quixotic': 1, 'thoughtless': 1, 'remembered': 1, 'new': 4, 'regular': 1, 'wholesome': 1, 'buttonhole': 3, 'unless': 5, 'marechal': 1, 'niel': 1, 'scissors': 1, 'pink': 2, 'cuts': 2, 'flower': 1, 'says': 2, 'shortsighted': 2, 'prettiest': 2, 'snare': 2, 'caught': 1, 'catch': 2, 'pass': 1, 'return': 6, 'alone': 3, 'misanthrope': 1, 'understanda': 1, 'womanthrope': 1, 'scholars': 1, 'shudder': 1, 'deserve': 1, 'neologistic': 1, 'phrase': 5, 'precept': 1, 'primitive': 2, 'church': 4, 'distinctly': 3, 'against': 3, 'matrimony': 1, 'obviously': 2, 'reason': 5, 'lasted': 1, 'persistently': 1, 'remaining': 2, 'converts': 1, 'temptation': 1, 'careful': 2, 'celibacy': 2, 'weaker': 1, 'vessels': 1, 'astray': 1, 'equally': 1, 'attractive': 7, 'except': 9, 'sympathies': 1, 'maturity': 1, 'depended': 1, 'ripeness': 1, 'trusted': 1, 'green': 1, 'horticulturally': 1, 'fruits': 1, 'perhaps': 3, 'followed': 4, 'dressed': 1, 'deepest': 1, 'mourning': 4, 'crape': 1, 'hatband': 1, 'shakes': 4, 'tragic': 2, 'garb': 1, 'woe': 1, 'betoken': 1, 'calamity': 1, 'shameful': 1, 'debts': 2, 'dead': 5, 'sincere': 1, 'condolence': 1, 'least': 2, 'consolation': 1, 'generous': 2, 'forgiving': 1, 'faults': 2, 'sad': 3, 'abroad': 1, 'grand': 1, 'hotel': 1, 'charity': 3, 'peculiarly': 6, 'susceptible': 2, 'draughts': 1, 'interment': 1, 'expressed': 2, 'buried': 1, 'points': 4, 'domestic': 3, 'affliction': 1, 'presses': 1, 'convulsively': 1, 'sermon': 2, 'manna': 1, 'wilderness': 1, 'adapted': 1, 'occasion': 2, 'joyful': 2, 'distressing': 2, 'sigh': 1, 'preached': 1, 'harvest': 1, 'celebrations': 1, 'christenings': 5, 'confirmations': 1, 'humiliation': 1, 'festal': 1, 'delivered': 1, 'cathedral': 1, 'behalf': 1, 'prevention': 1, 'discontent': 1, 'among': 1, 'bishop': 1, 'struck': 1, 'analogies': 1, 'drew': 1, 'christen': 1, 'continually': 1, 'christening': 2, 'arent': 2, 'regret': 2, 'rectors': 1, 'parish': 1, 'spoken': 1, 'poorer': 1, 'thrift': 1, 'infant': 2, 'unmarried': 3, 'bitterly': 1, 'fond': 6, 'grave': 3, 'doubts': 2, 'bother': 1, 'sprinkling': 2, 'immersion': 2, 'adults': 1, 'canonical': 1, 'apprehensions': 1, 'advisable': 2, 'changeable': 1, 'ceremony': 1, 'performed': 2, 'suit': 1, 'similar': 2, 'ceremonies': 1, 'perform': 2, 'twins': 1, 'occurred': 2, 'recently': 1, 'outlying': 1, 'cottages': 1, 'estate': 1, 'jenkins': 1, 'carter': 1, 'hardworking': 1, 'fun': 1, 'along': 1, 'babies': 1, 'childish': 2, 'halfpast': 1, 'admirably': 2, 'intrude': 1, 'sorrow': 1, 'bowed': 1, 'bitter': 1, 'trials': 1, 'blessings': 1, 'disguise': 1, 'blessing': 1, 'obvious': 2, 'change': 6, 'brow': 1, 'melancholy': 1, 'toothache': 1, 'diningroom': 2, 'arrived': 2, 'ago': 5, 'badly': 2, 'behaved': 2, 'past': 1, 'heartless': 6, 'disown': 1, 'shake': 2, 'tidings': 1, 'resigned': 1, 'sudden': 3, 'motions': 1, 'trouble': 4, 'future': 7, 'refuse': 2, 'knows': 4, 'visit': 4, 'bed': 1, 'pain': 1, 'drive': 2, 'johns': 1, 'painful': 6, 'enthusiastic': 1, 'welcome': 1, 'considering': 2, 'forgive': 6, 'reconciliation': 2, 'task': 3, 'done': 5, 'beautiful': 2, 'action': 2, 'today': 4, 'premature': 3, 'judgments': 1, 'scoundrel': 2, 'ernests': 2, 'unpacked': 1, 'portmanteaus': 1, 'dressingcase': 1, 'hatboxes': 1, 'luncheonbasket': 1, 'stay': 2, 'dogcart': 4, 'fearful': 2, 'liar': 1, 'interfered': 1, 'degree': 1, 'ridiculous': 2, 'deep': 1, 'staying': 3, 'guest': 2, 'grotesque': 2, 'fourfive': 2, 'unfriendly': 1, 'unkind': 1, 'anybody': 7, 'result': 3, 'overdressed': 2, 'occasionally': 2, 'overeducated': 1, 'vanity': 1, 'conduct': 4, 'outrage': 2, 'presence': 2, 'journey': 1, 'success': 2, 'water': 2, 'arrangements': 3, 'another': 2, 'hes': 2, 'parting': 1, 'brief': 2, 'space': 2, 'endure': 1, 'equanimity': 1, 'momentary': 1, 'separation': 1, 'appealingly': 1, 'exit': 4, 'offend': 1, 'openly': 1, 'visible': 1, 'personification': 1, 'perfection': 2, 'frankness': 1, 'credit': 2, 'remarks': 1, 'record': 1, 'thoughts': 1, 'impressions': 3, 'consequently': 2, 'meant': 1, 'publication': 2, 'appears': 2, 'volume': 1, 'stop': 1, 'delight': 2, 'dictation': 1, 'cough': 6, 'dictating': 1, 'fluently': 1, 'spell': 1, 'speaks': 2, 'rapidly': 1, 'looked': 2, 'dared': 1, 'wildly': 2, 'devotedly': 2, 'hopelessly': 3, 'waiting': 5, 'sign': 2, 'annoyed': 1, 'confessed': 1, 'formed': 1, 'chief': 2, 'topic': 1, 'talked': 1, 'feels': 1, 'daresay': 2, 'fell': 1, 'settled': 3, 'worn': 3, 'entire': 2, 'existence': 1, 'struggle': 1, 'tree': 1, 'bought': 1, 'bangle': 1, 'lovers': 1, 'knot': 1, 'wear': 1, 'excuse': 2, 'box': 3, 'kneels': 1, 'tied': 1, 'ribbon': 1, 'remind': 1, 'forced': 2, 'oftener': 1, 'conceited': 1, 'replaces': 1, 'broken': 3, 'spelled': 1, 'crying': 1, '22nd': 1, 'entry': 1, 'shows': 2, 'broke': 2, 'continues': 2, 'break': 3, 'hurt': 1, 'forgave': 1, 'crossing': 2, 'angel': 1, 'fingers': 1, 'curls': 1, 'help': 5, 'youll': 1, 'girlish': 1, 'rises': 4, 'inspire': 2, 'likealgernonfor': 1, 'loving': 1, 'aristocratic': 1, 'chaps': 1, 'bankruptcy': 1, 'admire': 1, 'undivided': 1, 'experienced': 3, 'rites': 1, 'ceremonials': 1, 'learned': 2, 'christeningi': 1, 'shant': 1, 'period': 3, 'rushes': 2, 'impetuous': 1, 'states': 17, 'library': 2, 'direction': 1, 'rectory': 1, 'elderly': 1, 'associated': 9, 'philanthropic': 2, 'introduce': 1, 'favourable': 1, 'mentioning': 1, 'papa': 2, 'outside': 4, 'circle': 1, 'unknown': 1, 'proper': 3, 'sphere': 1, 'neglect': 1, 'becomes': 3, 'painfully': 1, 'effeminate': 1, 'remarkably': 1, 'strict': 2, 'system': 1, 'glasses': 1, 'examining': 1, 'lorgnette': 1, 'severely': 4, 'female': 2, 'relative': 1, 'resides': 2, 'assistance': 2, 'arduous': 1, 'worthings': 3, 'secretive': 1, 'grows': 2, 'hourly': 1, 'news': 2, 'feelings': 1, 'unmixed': 1, 'liked': 3, 'expressing': 1, 'werewell': 1, 'older': 1, 'beand': 1, 'alluring': 1, 'appearance': 1, 'candid': 1, 'candour': 1, 'fortytwo': 1, 'strong': 1, 'upright': 1, 'soul': 1, 'honour': 1, 'disloyalty': 1, 'impossible': 2, 'deception': 3, 'noblest': 1, 'physical': 6, 'charms': 1, 'less': 1, 'ancient': 1, 'history': 2, 'supplies': 1, 'examples': 1, 'refer': 1, 'unreadable': 1, 'brotherhis': 1, 'elder': 3, 'distasteful': 2, 'lifted': 1, 'load': 1, 'growing': 1, 'cloud': 1, 'friendship': 1, 'ours': 1, 'inquiringly': 1, 'shy': 1, 'confidingly': 1, 'dearest': 2, 'newspaper': 1, 'chronicle': 1, 'politely': 2, 'error': 3, 'announcement': 1, 'appear': 5, 'post': 1, 'latest': 1, 'misconception': 1, 'lorgnettte': 1, 'curious': 1, '530': 2, 'verify': 1, 'incident': 3, 'travel': 1, 'prior': 1, 'claim': 2, 'distress': 1, 'caused': 2, 'mental': 3, 'anguish': 1, 'meditatively': 2, 'entrapped': 2, 'rescue': 1, 'firm': 3, 'thoughtfully': 1, 'sadly': 2, 'entanglement': 2, 'reproach': 1, 'allude': 1, 'presumptuous': 1, 'suggest': 1, 'dare': 2, 'wearing': 1, 'mask': 1, 'manners': 1, 'spade': 3, 'satirically': 1, 'spheres': 1, 'widely': 1, 'footman': 2, 'carries': 1, 'cloth': 2, 'stand': 3, 'retort': 1, 'exercises': 1, 'restraining': 1, 'chafe': 1, 'lay': 2, 'calm': 1, 'voice': 5, 'glare': 2, 'vicinity': 1, 'top': 1, 'hills': 1, 'close': 1, 'counties': 2, 'crowds': 1, 'sweetly': 3, 'bites': 1, 'lip': 1, 'beats': 2, 'foot': 1, 'parasol': 1, 'wellkept': 1, 'idea': 8, 'common': 2, 'manages': 1, 'exist': 1, 'bores': 1, 'newspapers': 1, 'agricultural': 1, 'depression': 1, 'suffering': 1, 'epidemic': 1, 'amongst': 1, 'elaborate': 2, 'politeness': 1, 'aside': 1, 'detestable': 1, 'sugar': 4, 'superciliously': 1, 'fashionable': 1, 'angrily': 1, 'tongs': 1, 'four': 2, 'lumps': 2, 'cake': 5, 'houses': 1, 'slice': 1, 'tray': 1, 'drinks': 1, 'grimace': 1, 'reaches': 1, 'finds': 1, 'filled': 1, 'gentleness': 1, 'sweetness': 1, 'warn': 1, 'save': 1, 'innocent': 2, 'trusting': 1, 'machinations': 1, 'lengths': 1, 'distrusted': 1, 'deceitful': 1, 'deceived': 1, 'trespassing': 1, 'valuable': 1, 'neighbourhood': 1, 'catching': 1, 'sight': 2, 'offers': 4, 'kiss': 3, 'draws': 1, 'cheek': 2, 'arm': 1, 'waist': 1, 'receding': 1, 'straight': 1, 'noticing': 1, 'youare': 1, 'presenting': 1, 'kissed': 1, 'embracing': 2, 'breaking': 1, 'move': 1, 'arms': 2, 'waists': 1, 'protection': 1, 'proudly': 1, 'gross': 2, 'practised': 2, 'wounded': 1, 'wronged': 1, 'embrace': 2, 'groan': 1, 'brightly': 1, 'permitted': 3, 'hesitatingly': 1, 'gwendolencecilyit': 1, 'reduced': 1, 'inexperienced': 1, 'pleasantly': 1, 'neither': 1, 'venture': 1, 'cowardly': 1, 'scornful': 1, 'chooses': 1, 'amusement': 1, 'fancy': 1, 'wretched': 1, 'exploded': 3, 'disappear': 1, 'frequently': 1, 'custom': 1, 'defence': 1, 'brilliant': 1, 'wanted': 2, 'marrying': 1, 'likelihood': 1, 'united': 11, 'muffins': 14, 'stockbrokers': 1, 'parties': 4, 'calmly': 4, 'horrible': 1, 'agitated': 2, 'cuffs': 1, 'circumstances': 2, 'consoles': 1, 'intimately': 1, 'food': 1, 'unhappy': 2, 'greedy': 1, 'teacake': 5, 'instead': 1, 'seizes': 2, 'muffindish': 2, 'vegetarians': 1, 'quarter': 1, 'evidence': 1, 'probable': 1, 'constitution': 1, 'dangerous': 1, 'venturing': 1, 'unwell': 1, 'forgotten': 4, 'closely': 1, 'connected': 3, 'usent': 1, 'knowbut': 1, 'improvements': 1, 'served': 1, 'guests': 1, 'hospitality': 1, 'muffin': 2, 'groans': 1, 'sinks': 2, 'chair': 2, 'window': 1, 'follow': 2, 'show': 2, 'shame': 3, 'repentance': 2, 'theyre': 2, 'effrontery': 1, 'approaching': 1, 'preserve': 2, 'dignified': 2, 'silence': 2, 'whistle': 1, 'popular': 1, 'air': 2, 'british': 1, 'opera': 1, 'reply': 1, 'pretend': 2, 'guardians': 2, 'affect': 1, 'style': 2, 'sincerity': 1, 'vital': 3, 'gravest': 1, 'crush': 1, 'scepticism': 1, 'explanations': 1, 'stamp': 1, 'content': 1, 'credulity': 1, 'principles': 1, 'stake': 1, 'surrender': 1, 'excellent': 1, 'uplifted': 1, 'finger': 1, 'insuperable': 1, 'barrier': 1, 'prepared': 2, 'ordeal': 1, 'equality': 1, 'sexes': 1, 'selfsacrifice': 1, 'infinitely': 1, 'beyond': 1, 'clasps': 1, 'courage': 1, 'coughs': 1, 'loudly': 1, 'seeing': 1, 'situation': 1, 'couples': 1, 'alarm': 1, 'immediately': 2, 'decay': 1, 'weakness': 1, 'apprised': 1, 'daughters': 1, 'trusty': 1, 'maid': 2, 'purchased': 1, 'coin': 1, 'attending': 1, 'lengthy': 1, 'lecture': 1, 'extension': 1, 'scheme': 1, 'undeceive': 1, 'undeceived': 1, 'communication': 1, 'daughter': 1, 'cease': 2, 'regards': 1, 'stammering': 1, 'somewhere': 1, 'killed': 1, 'victim': 1, 'revolutionary': 1, 'legislation': 1, 'punished': 1, 'morbidity': 1, 'doctors': 1, 'meanso': 1, 'physicians': 1, 'acted': 1, 'medical': 1, 'advice': 1, 'holding': 1, 'unnecessary': 1, 'coldly': 1, 'shiver': 1, 'exciting': 2, 'engagements': 2, 'above': 1, 'average': 1, 'statistics': 1, 'guidance': 1, 'preliminary': 1, 'inquiry': 1, 'larger': 2, 'stations': 2, 'until': 2, 'terminus': 1, 'cold': 1, 'sw': 1, 'gervase': 1, 'dorking': 1, 'surrey': 1, 'sporran': 1, 'fifeshire': 1, 'nb': 1, 'unsatisfactory': 1, 'tradesmen': 1, 'authenticity': 1, 'preserved': 1, 'guides': 1, 'inspection': 1, 'grimly': 1, 'errors': 2, 'cardews': 5, 'solicitors': 1, 'messrs': 1, 'markby': 6, 'highest': 2, 'profession': 1, 'markbys': 1, 'satisfied': 1, 'possession': 2, 'certificates': 1, 'baptism': 2, 'whooping': 1, 'registration': 1, 'vaccination': 1, 'confirmation': 2, 'measles': 1, 'variety': 2, 'crowded': 1, 'experiences': 1, 'approaches': 3, 'departure': 1, 'fortune': 2, 'thirty': 5, 'pounds': 2, 'funds': 2, 'goodbye': 1, 'solid': 1, 'qualities': 2, 'surfaces': 1, 'marvellous': 1, 'recommending': 1, 'lancing': 1, 'bends': 1, 'smile': 1, 'view': 1, 'profile': 4, 'distinct': 2, 'possibilities': 3, 'principle': 1, 'chin': 2, 'largely': 1, 'sweetest': 1, 'twopence': 1, 'disrespectfully': 1, 'mercenary': 1, 'marriages': 1, 'dreamed': 1, 'finding': 1, 'interrupting': 2, 'comes': 1, 'decline': 2, 'grounds': 1, 'ostentatiously': 1, 'pains': 1, 'suspect': 2, 'untruthful': 2, 'indignant': 3, 'oxonian': 1, 'obtained': 1, 'pretence': 1, 'assumed': 1, 'drank': 1, 'informed': 2, 'bottle': 1, 'perrierjouet': 1, 'brut': 1, '89': 1, 'reserving': 1, 'continuing': 1, 'succeeded': 1, 'alienating': 1, 'affections': 2, 'subsequently': 1, 'stayed': 1, 'devoured': 1, 'decided': 1, 'overlook': 1, 'nephews': 1, 'decision': 3, 'unalterable': 1, 'alteration': 2, 'accurate': 1, 'calculating': 1, 'meditative': 1, 'admitting': 1, 'free': 7, 'restraints': 1, 'tutelage': 1, 'grandfathers': 1, 'legally': 2, 'thirtyfive': 3, 'choice': 1, 'remained': 1, 'dumbleton': 1, 'forty': 2, 'accumulation': 1, 'property': 3, 'cross': 1, 'punctual': 1, 'punctuality': 1, 'positively': 1, 'thirtyfivea': 1, 'remark': 1, 'impatient': 1, 'naturei': 1, 'reconsider': 1, 'gladly': 1, 'passionate': 1, 'destiny': 1, 'pulls': 1, 'missed': 1, 'trains': 1, 'expose': 1, 'comment': 1, 'platform': 1, 'puzzled': 1, 'pointing': 2, 'gentlemen': 1, 'immediate': 3, 'irreligious': 1, 'forbid': 1, 'baptized': 1, 'highly': 1, 'displeased': 1, 'wasted': 1, 'practical': 1, 'value': 1, 'grieved': 1, 'sentiments': 1, 'savour': 1, 'heretical': 1, 'anabaptists': 1, 'refuted': 1, 'unpublished': 1, 'sermons': 1, 'mood': 2, 'secular': 1, 'pewopener': 1, 'vestry': 2, 'starting': 1, 'join': 1, 'detain': 1, 'repellent': 1, 'aspect': 1, 'remotely': 1, 'cultivated': 1, 'ladies': 1, 'picture': 1, 'holds': 1, 'household': 1, 'celibate': 1, 'madam': 1, 'interposing': 1, 'esteemed': 1, 'valued': 1, 'companion': 1, 'spite': 1, 'nigh': 1, 'hurriedly': 1, 'threequarters': 1, 'catches': 1, 'fixed': 1, 'stony': 1, 'pale': 1, 'quails': 1, 'anxiously': 1, 'desirous': 1, 'escape': 1, 'judicial': 1, 'humble': 1, 'baby': 7, 'general': 7, 'consternation': 1, 'shield': 1, 'details': 1, 'scandal': 1, 'twentyeight': 1, '104': 1, 'perambulator': 3, 'contained': 3, 'male': 1, 'weeks': 1, 'later': 2, 'investigations': 1, 'metropolitan': 1, 'police': 1, 'midnight': 1, 'itself': 1, 'remote': 1, 'bayswater': 1, 'revolting': 1, 'sentimentality': 1, 'involuntary': 1, 'branded': 1, 'capacious': 1, 'intended': 1, 'unoccupied': 1, 'hours': 1, 'abstraction': 1, 'deposited': 2, 'basinette': 1, 'attentively': 1, 'deposit': 1, 'insist': 1, 'crushed': 1, 'coincidences': 1, 'supposed': 1, 'occur': 2, 'considered': 1, 'noises': 1, 'overhead': 1, 'throwing': 1, 'trunks': 1, 'strangely': 1, 'emotional': 1, 'argument': 1, 'dislike': 1, 'arguments': 1, 'convincing': 1, 'stopped': 1, 'redoubled': 1, 'arrive': 1, 'conclusion': 1, 'suspense': 1, 'rushing': 1, 'examine': 1, 'injury': 1, 'upsetting': 1, 'gower': 1, 'omnibus': 1, 'happier': 1, 'stain': 1, 'lining': 1, 'explosion': 1, 'temperance': 1, 'beverage': 1, 'leamington': 1, 'lock': 1, 'initials': 1, 'extravagant': 1, 'bag': 1, 'undoubtedly': 1, 'delighted': 1, 'unexpectedly': 1, 'restored': 2, 'inconvenience': 1, 'pathetic': 1, 'amazed': 1, 'recoiling': 1, 'astonishment': 1, 'cast': 1, 'suffered': 1, 'wipe': 1, 'folly': 1, 'law': 3, 'inquisitive': 1, 'altogether': 1, 'son': 2, 'algys': 1, 'cecilyhow': 1, 'doubted': 1, 'hold': 2, 'irrevocable': 1, 'noble': 1, 'luxury': 1, 'including': 9, 'lavished': 1, 'doting': 1, 'eldest': 1, 'fathers': 2, 'recall': 1, 'generals': 2, 'eccentric': 1, 'indian': 1, 'climate': 1, 'indigestion': 1, 'recollect': 1, 'army': 2, 'lists': 2, 'essentially': 1, 'peace': 1, 'military': 1, 'directory': 1, 'records': 1, 'study': 1, 'bookcase': 1, 'm': 1, 'mallam': 1, 'maxbohm': 1, 'magley': 1, 'havemarkby': 1, 'migsby': 1, 'mobbs': 1, 'lieutenant': 1, '1840': 1, 'captain': 1, 'lieutenantcolonel': 1, 'colonel': 1, '1869': 1, 'quietly': 1, 'disliking': 1, 'embraces': 3, 'enthusiastically': 1, 'frederick': 1, 'displaying': 5, 'signs': 1, 'contrary': 1, 'realised': 1, 'tableau': 1, 'file': 2, 'named': 1, '844txt': 1, '844zip': 1, 'files': 2, 'various': 1, 'formats': 2, 'httpwwwgutenbergorgdirs84844': 1, 'updated': 1, 'editions': 4, 'replace': 1, 'previous': 1, 'onethe': 1, 'renamed': 1, 'creating': 4, 'works': 32, 'domain': 8, 'print': 1, 'owns': 2, 'copyright': 13, 'foundation': 22, 'distribute': 6, 'permission': 7, 'paying': 2, 'royalties': 2, 'special': 1, 'forth': 8, 'apply': 1, 'copying': 4, 'distributing': 7, 'gutenbergtm': 56, 'electronic': 27, 'protect': 2, 'concept': 2, 'trademark': 10, 'registered': 2, 'ebooks': 7, 'receive': 3, 'specific': 1, 'copies': 7, 'complying': 3, 'creation': 1, 'derivative': 3, 'reports': 1, 'performances': 1, 'research': 2, 'modified': 1, 'printed': 2, 'awayyou': 1, 'redistribution': 2, 'commercial': 1, 'promoting': 2, 'distribution': 6, 'using': 4, 'agree': 9, 'comply': 6, 'available': 2, 'httpwwwgutenbergorglicense': 1, 'section': 7, '1': 2, 'redistributing': 2, '1a': 1, 'indicate': 1, 'trademarkcopyright': 1, 'agreement': 18, 'abide': 1, 'destroy': 2, 'paid': 6, 'fee': 8, 'obtaining': 2, 'access': 10, 'obtain': 3, 'refund': 10, 'entity': 3, 'paragraph': 11, '1e8': 4, '1b': 1, '1c': 2, '1e': 2, 'archive': 13, 'pglaf': 1, 'compilation': 1, 'collection': 4, 'individual': 4, 'located': 4, 'performing': 3, 'based': 2, 'references': 2, 'removed': 2, 'support': 4, 'freely': 4, 'sharing': 1, 'compliance': 5, 'format': 4, 'share': 1, '1d': 1, 'laws': 8, 'govern': 1, 'countries': 1, 'check': 2, 'addition': 1, 'downloading': 1, 'representations': 1, 'concerning': 2, 'status': 4, '1e1': 5, 'sentence': 2, 'active': 2, 'links': 3, 'prominently': 2, 'accessed': 1, 'displayed': 1, 'viewed': 1, 'copied': 2, 'distributed': 4, '1e2': 1, 'derived': 1, 'contain': 2, 'indicating': 1, 'posted': 4, 'holder': 4, 'fees': 4, 'charges': 1, 'providing': 4, 'appearing': 1, 'requirements': 4, 'paragraphs': 3, '1e7': 3, '1e9': 3, '1e3': 1, 'additional': 4, 'imposed': 1, 'linked': 1, 'beginning': 1, '1e4': 1, 'unlink': 1, 'detach': 1, 'remove': 1, 'containing': 1, '1e5': 1, 'redistribute': 1, '1e6': 1, 'convert': 1, 'binary': 1, 'compressed': 1, 'marked': 2, 'nonproprietary': 1, 'proprietary': 1, 'processing': 1, 'hypertext': 1, 'provide': 7, 'vanilla': 2, 'ascii': 2, 'official': 3, 'version': 1, 'web': 6, 'site': 4, 'expense': 1, 'user': 3, 'exporting': 1, 'request': 1, 'original': 1, 'alternate': 1, 'include': 1, 'specified': 2, 'viewing': 1, 'reasonable': 1, 'provided': 4, 'royalty': 3, '20': 1, 'profits': 1, 'derive': 1, 'calculated': 1, 'method': 1, 'calculate': 1, 'applicable': 3, 'taxes': 1, 'owed': 1, 'owner': 5, 'agreed': 1, 'donate': 3, 'payments': 3, 'within': 4, '60': 1, 'prepare': 2, 'required': 1, 'periodic': 1, 'tax': 6, 'returns': 1, 'donations': 15, 'notifies': 1, '30': 1, 'receipt': 2, 'possessed': 1, 'medium': 5, 'discontinue': 1, 'accordance': 2, '1f3': 4, 'replacement': 5, 'defect': 3, 'reported': 1, '90': 2, 'group': 1, 'michael': 2, 'hart': 2, 'contact': 4, '3': 3, '1f': 1, '1f1': 1, 'volunteers': 6, 'employees': 2, 'expend': 1, 'considerable': 2, 'identify': 1, 'transcribe': 1, 'proofread': 1, 'despite': 1, 'efforts': 3, 'stored': 1, 'defects': 1, 'limited': 5, 'incomplete': 1, 'inaccurate': 1, 'data': 1, 'transcription': 1, 'infringement': 1, 'defective': 3, 'damaged': 1, 'disk': 1, 'computer': 2, 'virus': 1, 'codes': 1, 'damage': 2, 'equipment': 3, '1f2': 1, 'warranty': 2, 'disclaimer': 3, 'damages': 4, 'described': 1, 'party': 1, 'disclaim': 1, 'liability': 3, 'costs': 2, 'expenses': 2, 'legal': 2, 'remedies': 1, 'negligence': 1, 'breach': 2, 'contract': 1, 'f3': 1, 'distributor': 1, 'liable': 1, 'direct': 1, 'indirect': 1, 'consequential': 1, 'punitive': 1, 'incidental': 1, 'possibility': 1, 'discover': 1, 'elect': 1, 'lieu': 2, 'electronically': 2, 'demand': 1, 'further': 1, 'opportunities': 1, 'fix': 1, 'problem': 1, '1f4': 1, 'asis': 1, 'warranties': 3, 'express': 1, 'implied': 2, 'merchantibility': 1, 'fitness': 1, '1f5': 1, 'disclaimers': 1, 'exclusion': 1, 'limitation': 3, 'types': 1, 'violates': 1, 'interpreted': 1, 'maximum': 1, 'invalidity': 1, 'unenforceability': 1, 'provision': 1, 'void': 1, 'provisions': 1, '1f6': 1, 'indemnity': 1, 'indemnify': 1, 'agent': 1, 'employee': 1, 'production': 1, 'promotion': 1, 'harmless': 1, 'arise': 1, 'directly': 1, 'indirectly': 1, 'modification': 1, 'additions': 1, 'deletions': 1, 'c': 1, '2': 1, 'synonymous': 1, 'readable': 2, 'widest': 2, 'computers': 2, 'obsolete': 1, 'middleaged': 1, 'exists': 1, 'hundreds': 1, 'financial': 1, 'critical': 1, 'reaching': 1, 'gutenbergtms': 1, 'goals': 1, 'ensuring': 1, 'generations': 2, '2001': 1, 'created': 2, 'secure': 1, 'learn': 1, 'sections': 1, 'httpwwwgutenbergorgfundraisingpglaf': 1, 'non': 1, '501c3': 1, 'educational': 1, 'corporation': 1, 'organized': 1, 'mississippi': 1, 'granted': 1, 'exempt': 2, 'internal': 1, 'revenue': 1, 'foundations': 3, 'ein': 1, 'federal': 2, 'identification': 1, '646221541': 1, 'contributions': 2, 'deductible': 1, 'extent': 1, 'principal': 1, 'office': 2, '4557': 1, 'melan': 1, 's': 2, 'fairbanks': 1, 'ak': 1, '99712': 1, 'scattered': 1, 'throughout': 1, 'numerous': 1, 'locations': 2, '809': 1, 'north': 1, '1500': 1, 'west': 1, 'salt': 1, 'lake': 1, 'city': 1, 'ut': 1, '84116': 1, '801': 1, '5961887': 1, 'businesspglaforg': 1, 'httpwwwgutenbergorgaboutcontact': 1, 'gregory': 1, 'newby': 1, 'executive': 1, 'director': 1, 'gbnewbypglaforg': 1, 'survive': 1, 'wide': 1, 'spread': 1, 'increasing': 1, 'licensed': 1, 'machine': 1, 'accessible': 1, 'array': 1, 'outdated': 1, '5000': 1, 'maintaining': 1, 'irs': 1, 'committed': 1, 'regulating': 1, 'charities': 1, '50': 1, 'uniform': 1, 'paperwork': 1, 'solicit': 2, 'determine': 1, 'httpwwwgutenbergorgfundraisingdonate': 2, 'solicitation': 1, 'prohibition': 1, 'accepting': 1, 'unsolicited': 1, 'donors': 1, 'approach': 1, 'international': 1, 'gratefully': 1, 'statements': 1, 'treatment': 1, 'swamp': 1, 'staff': 1, 'pages': 1, 'current': 1, 'donation': 1, 'methods': 1, 'ways': 1, 'checks': 1, '5': 1, 'professor': 1, 'originator': 1, 'shared': 1, 'produced': 1, 'loose': 1, 'network': 1, 'volunteer': 1, 'thus': 1, 'necessarily': 1, 'paper': 1, 'main': 1, 'pg': 1, 'search': 1, 'facility': 1, 'httpwwwgutenbergorg': 1, 'includes': 1, 'subscribe': 1, 'newsletter': 1}\n"
          ],
          "name": "stdout"
        }
      ]
    },
    {
      "cell_type": "code",
      "metadata": {
        "id": "fWq0RoTUHHwN",
        "colab_type": "code",
        "colab": {
          "base_uri": "https://localhost:8080/",
          "height": 364
        },
        "outputId": "e22c2349-cef6-4300-d8a1-c14b0435ee98"
      },
      "source": [
        "#task 2B\n",
        "\n",
        "list1=[]\n",
        "for key,value in dictionary.items():\n",
        "  list1.append((value,key))\n",
        "  list1.sort(reverse=True)\n",
        "\n",
        "for a in range(20):\n",
        "  print(list1[a])"
      ],
      "execution_count": 5,
      "outputs": [
        {
          "output_type": "stream",
          "text": [
            "(793, 'the')\n",
            "(791, 'i')\n",
            "(663, 'to')\n",
            "(611, 'you')\n",
            "(513, 'of')\n",
            "(469, 'a')\n",
            "(436, 'is')\n",
            "(365, 'in')\n",
            "(355, 'and')\n",
            "(336, 'that')\n",
            "(286, 'jack')\n",
            "(280, 'it')\n",
            "(268, 'algernon')\n",
            "(254, 'cecily')\n",
            "(208, 'have')\n",
            "(186, 'my')\n",
            "(176, 'gwendolen')\n",
            "(176, 'be')\n",
            "(169, 'for')\n",
            "(168, 'at')\n"
          ],
          "name": "stdout"
        }
      ]
    },
    {
      "cell_type": "code",
      "metadata": {
        "id": "K9GoEGe1yjzs",
        "colab_type": "code",
        "colab": {
          "base_uri": "https://localhost:8080/",
          "height": 35
        },
        "outputId": "5dc5d97c-1d53-4710-b455-f10719532b42"
      },
      "source": [
        "#task 2C\n",
        "\n",
        "print(len(dictionary))"
      ],
      "execution_count": 6,
      "outputs": [
        {
          "output_type": "stream",
          "text": [
            "3143\n"
          ],
          "name": "stdout"
        }
      ]
    },
    {
      "cell_type": "code",
      "metadata": {
        "id": "cuu3rmznzC6q",
        "colab_type": "code",
        "colab": {
          "base_uri": "https://localhost:8080/",
          "height": 35
        },
        "outputId": "4b55ac93-be9a-4a8b-9686-da924dd0ebb6"
      },
      "source": [
        "#task 5\n",
        "\n",
        "try:\n",
        "  def sed(file1,file2):\n",
        "      fin1=open(\"book.txt\",\"r\")\n",
        "      fin2=open(\"book2.txt\",\"w\")\n",
        "      for line in fin1:\n",
        "        fin2.write(line)\n",
        "\n",
        "  sed(\"book.txt\",\"book2.txt\")\n",
        "  fin=open(\"book2.txt\",\"r\")\n",
        "  for i in fin1:\n",
        "    print(i)\n",
        "\n",
        "except:\n",
        "\n",
        "  print(\"Your Code is Incorrect!! Try Again\")"
      ],
      "execution_count": 9,
      "outputs": [
        {
          "output_type": "stream",
          "text": [
            "Your Code is Incorrect!! Try Again\n"
          ],
          "name": "stdout"
        }
      ]
    },
    {
      "cell_type": "code",
      "metadata": {
        "id": "hKrPErEz0gUx",
        "colab_type": "code",
        "colab": {
          "base_uri": "https://localhost:8080/",
          "height": 191
        },
        "outputId": "12512ea9-638a-4bd6-9e1e-bc6e71da402b"
      },
      "source": [
        "#Homework 1\n",
        "\n",
        "def sed(file1,file2):\n",
        "    fin1=open(\"book.txt\",\"r\")\n",
        "    fin2=open(\"book2.txt\",\"w\")\n",
        "    for line in fin1:\n",
        "       fin2.write(line)\n",
        "        \n",
        "\n",
        "\n",
        "word_list=[\"project\",\"the\",\"a\"]\n",
        "sed(\"book.txt\",\"book2.txt\")\n",
        "fin=open(\"book2.txt\",\"r\")\n",
        "for i in fin:\n",
        "  for word in line.split():\n",
        "    if word not in fin:\n",
        "      print(word)\n"
      ],
      "execution_count": 17,
      "outputs": [
        {
          "output_type": "stream",
          "text": [
            "subscribe\n",
            "to\n",
            "our\n",
            "email\n",
            "newsletter\n",
            "to\n",
            "hear\n",
            "about\n",
            "new\n",
            "eBooks.\n"
          ],
          "name": "stdout"
        }
      ]
    }
  ]
}